{
 "cells": [
  {
   "cell_type": "markdown",
   "metadata": {},
   "source": [
    "### I hope you have learned about pandas in a quite good manner , now its time to move on to a test for it. Here you are provided with some questions of which you need to write the code and test your understanding of the concept."
   ]
  },
  {
   "cell_type": "code",
   "execution_count": 7,
   "metadata": {},
   "outputs": [
    {
     "name": "stdout",
     "output_type": "stream",
     "text": [
      "Requirement already satisfied: pandas in c:\\users\\nikhil sharma\\anaconda3\\lib\\site-packages (2.2.2)\n",
      "Requirement already satisfied: numpy>=1.26.0 in c:\\users\\nikhil sharma\\anaconda3\\lib\\site-packages (from pandas) (1.26.4)\n",
      "Requirement already satisfied: python-dateutil>=2.8.2 in c:\\users\\nikhil sharma\\anaconda3\\lib\\site-packages (from pandas) (2.9.0.post0)\n",
      "Requirement already satisfied: pytz>=2020.1 in c:\\users\\nikhil sharma\\anaconda3\\lib\\site-packages (from pandas) (2024.1)\n",
      "Requirement already satisfied: tzdata>=2022.7 in c:\\users\\nikhil sharma\\anaconda3\\lib\\site-packages (from pandas) (2023.3)\n",
      "Requirement already satisfied: six>=1.5 in c:\\users\\nikhil sharma\\anaconda3\\lib\\site-packages (from python-dateutil>=2.8.2->pandas) (1.16.0)\n"
     ]
    }
   ],
   "source": [
    "!pip install pandas"
   ]
  },
  {
   "cell_type": "code",
   "execution_count": 1,
   "metadata": {
    "id": "-FQDUcJoaI0k"
   },
   "outputs": [],
   "source": [
    "import pandas as pd\n",
    "import numpy as np"
   ]
  },
  {
   "cell_type": "markdown",
   "metadata": {
    "id": "tgjbtp6PVx69"
   },
   "source": [
    "### Q1.\n",
    "\n",
    "```\n",
    "import numpy as np\n",
    "mylist = list('abcedfghijklmnopqrstuvwxyz')\n",
    "myarr = np.arange(26)\n",
    "mydict = dict(zip(mylist, myarr))\n",
    "```\n",
    "**Write code to convert the above mydict variable into dataframe , your code should return a dataframe like below.**\n",
    "\n",
    "```\n",
    "a    0\n",
    "b    1\n",
    "c    2\n",
    "d    4\n",
    "```\n",
    "\n",
    "\n",
    "\n"
   ]
  },
  {
   "cell_type": "code",
   "execution_count": 11,
   "metadata": {},
   "outputs": [],
   "source": [
    "import numpy as np\n",
    "mylist = list('abcd')\n",
    "myarr = np.arange(4)\n",
    "mydict = dict(zip(mylist, myarr))"
   ]
  },
  {
   "cell_type": "code",
   "execution_count": 24,
   "metadata": {
    "colab": {
     "base_uri": "https://localhost:8080/",
     "height": 817
    },
    "id": "X8KZAs44VrNb",
    "outputId": "f40d573f-0e27-4580-ebb0-f7551a899028"
   },
   "outputs": [],
   "source": [
    "df = pd.DataFrame(list(mydict.items()), columns=['Letter' , 'Value'])"
   ]
  },
  {
   "cell_type": "code",
   "execution_count": 26,
   "metadata": {},
   "outputs": [],
   "source": [
    "df.set_index('Letter', inplace=True)"
   ]
  },
  {
   "cell_type": "code",
   "execution_count": 28,
   "metadata": {},
   "outputs": [
    {
     "name": "stdout",
     "output_type": "stream",
     "text": [
      "        Value\n",
      "Letter       \n",
      "a           0\n",
      "b           1\n",
      "c           2\n",
      "d           3\n"
     ]
    }
   ],
   "source": [
    "print(df)"
   ]
  },
  {
   "cell_type": "markdown",
   "metadata": {
    "id": "sgPQTjwpWMqE"
   },
   "source": [
    "### Q2. Write the code to get frequency count of each character from the result of below command\n",
    "```\n",
    "ser = pd.Series(np.take(list('abcdefgh'), np.random.randint(8, size=30)))\n",
    "```"
   ]
  },
  {
   "cell_type": "code",
   "execution_count": 3,
   "metadata": {
    "colab": {
     "base_uri": "https://localhost:8080/"
    },
    "id": "vgKvmA78WcW0",
    "outputId": "8036f9b0-c491-452c-e456-0087dbe38661"
   },
   "outputs": [
    {
     "data": {
      "text/plain": [
       "f    7\n",
       "c    5\n",
       "g    4\n",
       "b    4\n",
       "h    4\n",
       "e    3\n",
       "a    3\n",
       "dtype: int64"
      ]
     },
     "execution_count": 3,
     "metadata": {
      "tags": []
     },
     "output_type": "execute_result"
    }
   ],
   "source": [
    "## your output should look like this."
   ]
  },
  {
   "cell_type": "code",
   "execution_count": 30,
   "metadata": {
    "id": "WNE1xz7_aQ3X"
   },
   "outputs": [],
   "source": [
    "ser = pd.Series(np.take(list('abcdefgh'), np.random.randint(8, size=30)))\n",
    "frequency_count = ser.value_counts()"
   ]
  },
  {
   "cell_type": "code",
   "execution_count": 32,
   "metadata": {},
   "outputs": [
    {
     "name": "stdout",
     "output_type": "stream",
     "text": [
      "g    9\n",
      "e    5\n",
      "a    5\n",
      "h    4\n",
      "d    2\n",
      "b    2\n",
      "f    2\n",
      "c    1\n",
      "Name: count, dtype: int64\n"
     ]
    }
   ],
   "source": [
    "print(frequency_count)"
   ]
  },
  {
   "cell_type": "markdown",
   "metadata": {
    "id": "JMWnM1S6WfFD"
   },
   "source": [
    "### Q3. What parameter to do we need to add in read_csv, which let us read only a bunch of columns from the whole dataset.\n"
   ]
  },
  {
   "cell_type": "code",
   "execution_count": 34,
   "metadata": {
    "id": "oJmPH0-VWjLL"
   },
   "outputs": [],
   "source": [
    "# just write that parameter name here\n",
    "import pandas as pd"
   ]
  },
  {
   "cell_type": "code",
   "execution_count": 142,
   "metadata": {},
   "outputs": [],
   "source": [
    "df = pd.read_csv(\"fruits.csv\")"
   ]
  },
  {
   "cell_type": "code",
   "execution_count": 144,
   "metadata": {},
   "outputs": [
    {
     "name": "stdout",
     "output_type": "stream",
     "text": [
      "   Fruit Name  Quantity  Price\n",
      "0      Banana        78    112\n",
      "1       Mango        40    160\n",
      "2      Banana        20     85\n",
      "3   PineApple        15     90\n",
      "4  Strawberry       100    200\n",
      "5       Mango        25     60\n",
      "6       Mango        40    100\n",
      "7   PineApple        50    285\n"
     ]
    }
   ],
   "source": [
    "print(df)"
   ]
  },
  {
   "cell_type": "markdown",
   "metadata": {
    "id": "x_wiCglGWnrE"
   },
   "source": [
    "<p style=\"color:brown;\">For Next 3 question you need to work on fruits sample dataset provided in resources.</p>"
   ]
  },
  {
   "cell_type": "code",
   "execution_count": 4,
   "metadata": {
    "id": "kuAQuke9aU3s"
   },
   "outputs": [],
   "source": [
    "# read fruits.csv file\n"
   ]
  },
  {
   "cell_type": "markdown",
   "metadata": {
    "id": "LiyAs9T6X_qV"
   },
   "source": [
    "### Q4. Get mean, median, max , min price for each fruit ."
   ]
  },
  {
   "cell_type": "code",
   "execution_count": 9,
   "metadata": {
    "colab": {
     "base_uri": "https://localhost:8080/",
     "height": 166
    },
    "id": "FsKu2STdWnNt",
    "outputId": "6cd8b0e7-b94a-4cab-a1cd-b844661fa171"
   },
   "outputs": [
    {
     "data": {
      "text/html": [
       "<div>\n",
       "<style scoped>\n",
       "    .dataframe tbody tr th:only-of-type {\n",
       "        vertical-align: middle;\n",
       "    }\n",
       "\n",
       "    .dataframe tbody tr th {\n",
       "        vertical-align: top;\n",
       "    }\n",
       "\n",
       "    .dataframe thead th {\n",
       "        text-align: right;\n",
       "    }\n",
       "</style>\n",
       "<table border=\"1\" class=\"dataframe\">\n",
       "  <thead>\n",
       "    <tr style=\"text-align: right;\">\n",
       "      <th></th>\n",
       "      <th>Fruit Name</th>\n",
       "      <th>mean</th>\n",
       "      <th>median</th>\n",
       "      <th>max</th>\n",
       "    </tr>\n",
       "  </thead>\n",
       "  <tbody>\n",
       "    <tr>\n",
       "      <th>0</th>\n",
       "      <td>Banana</td>\n",
       "      <td>98.500000</td>\n",
       "      <td>98.5</td>\n",
       "      <td>112</td>\n",
       "    </tr>\n",
       "    <tr>\n",
       "      <th>1</th>\n",
       "      <td>Mango</td>\n",
       "      <td>106.666667</td>\n",
       "      <td>100.0</td>\n",
       "      <td>160</td>\n",
       "    </tr>\n",
       "    <tr>\n",
       "      <th>2</th>\n",
       "      <td>PineApple</td>\n",
       "      <td>187.500000</td>\n",
       "      <td>187.5</td>\n",
       "      <td>285</td>\n",
       "    </tr>\n",
       "    <tr>\n",
       "      <th>3</th>\n",
       "      <td>Strawberry</td>\n",
       "      <td>200.000000</td>\n",
       "      <td>200.0</td>\n",
       "      <td>200</td>\n",
       "    </tr>\n",
       "  </tbody>\n",
       "</table>\n",
       "</div>"
      ],
      "text/plain": [
       "   Fruit Name        mean  median  max\n",
       "0      Banana   98.500000    98.5  112\n",
       "1       Mango  106.666667   100.0  160\n",
       "2   PineApple  187.500000   187.5  285\n",
       "3  Strawberry  200.000000   200.0  200"
      ]
     },
     "execution_count": 9,
     "metadata": {
      "tags": []
     },
     "output_type": "execute_result"
    }
   ],
   "source": [
    "# Your output should look like this"
   ]
  },
  {
   "cell_type": "code",
   "execution_count": 146,
   "metadata": {
    "id": "3OgOG3LMacHW"
   },
   "outputs": [],
   "source": [
    "data = {\n",
    "    'Fruit Name': ['Banana', 'Mango', 'Banana', 'PineApple', 'Strawberry', 'Mango', 'Mango', 'PineApple'],\n",
    "    'Quantity': [78, 40, 20, 15, 100, 25, 40, 50],\n",
    "    'Price': [112, 160, 85, 90, 200, 60, 100, 285]\n",
    "}"
   ]
  },
  {
   "cell_type": "code",
   "execution_count": 148,
   "metadata": {},
   "outputs": [],
   "source": [
    "f = pd.DataFrame(data)"
   ]
  },
  {
   "cell_type": "code",
   "execution_count": 152,
   "metadata": {},
   "outputs": [
    {
     "name": "stdout",
     "output_type": "stream",
     "text": [
      "   Fruit Name        mean  median  max  min\n",
      "0      Banana   98.500000    98.5  112   85\n",
      "1       Mango  106.666667   100.0  160   60\n",
      "2   PineApple  187.500000   187.5  285   90\n",
      "3  Strawberry  200.000000   200.0  200  200\n"
     ]
    }
   ],
   "source": [
    "result = df.groupby('Fruit Name')['Price'].agg(['mean', 'median', 'max', 'min']).reset_index()\n",
    "print(result)"
   ]
  },
  {
   "cell_type": "markdown",
   "metadata": {
    "id": "VaLlYVOcYCH8"
   },
   "source": [
    "### Q5. What is the total cost of this basket?\n"
   ]
  },
  {
   "cell_type": "code",
   "execution_count": 66,
   "metadata": {
    "colab": {
     "base_uri": "https://localhost:8080/"
    },
    "id": "W09ZzqkPYETP",
    "outputId": "4e4cb2b0-e2cb-4c19-e5a2-a7e1ef065fcf"
   },
   "outputs": [],
   "source": [
    "#your output should be this"
   ]
  },
  {
   "cell_type": "markdown",
   "metadata": {
    "id": "r9d4FePkYEnU"
   },
   "source": [
    "### Q6. Which fruit has the maximum price per quantity?\n"
   ]
  },
  {
   "cell_type": "code",
   "execution_count": 13,
   "metadata": {
    "colab": {
     "base_uri": "https://localhost:8080/",
     "height": 35
    },
    "id": "KFTqbHX5YHF0",
    "outputId": "16ff9427-d90d-40c3-fa81-1354ce31b5e1"
   },
   "outputs": [
    {
     "data": {
      "application/vnd.google.colaboratory.intrinsic+json": {
       "type": "string"
      },
      "text/plain": [
       "'PineApple'"
      ]
     },
     "execution_count": 13,
     "metadata": {
      "tags": []
     },
     "output_type": "execute_result"
    }
   ],
   "source": [
    "# your output should be "
   ]
  },
  {
   "cell_type": "code",
   "execution_count": 154,
   "metadata": {},
   "outputs": [],
   "source": [
    "data = {\n",
    "    'Fruit Name': ['Banana', 'Mango', 'PineApple', 'Strawberry'],\n",
    "    'Quantity': [78, 40, 15, 100],\n",
    "    'Price': [112, 160, 90, 200]\n",
    "}\n",
    "\n",
    "df = pd.DataFrame(data)"
   ]
  },
  {
   "cell_type": "code",
   "execution_count": 156,
   "metadata": {},
   "outputs": [
    {
     "name": "stdout",
     "output_type": "stream",
     "text": [
      "Fruit Name            PineApple\n",
      "Quantity                     15\n",
      "Price                        90\n",
      "Price per Quantity          6.0\n",
      "Name: 2, dtype: object\n"
     ]
    }
   ],
   "source": [
    "df['Price per Quantity'] = df['Price'] / df['Quantity']\n",
    "max_price_fruit = df.loc[df['Price per Quantity'].idxmax()]\n",
    "print(max_price_fruit)"
   ]
  },
  {
   "cell_type": "markdown",
   "metadata": {
    "id": "RttIX9jGYHVI"
   },
   "source": [
    "### Q7. Given an array \n",
    "```arr = [ 0,1,0,1,0,2,3,6,5,0,0,0,4,1,2,3,5,5,4,4 ]```\n",
    "<br>\n",
    "**Write code to  Create one_hot encoded dataframe of this array.**\n"
   ]
  },
  {
   "cell_type": "code",
   "execution_count": 18,
   "metadata": {
    "colab": {
     "base_uri": "https://localhost:8080/",
     "height": 195
    },
    "id": "PQVnWfAPYRCc",
    "outputId": "2f096ca9-b367-46fc-95fe-d8c2a0dedb10"
   },
   "outputs": [
    {
     "data": {
      "text/html": [
       "<div>\n",
       "<style scoped>\n",
       "    .dataframe tbody tr th:only-of-type {\n",
       "        vertical-align: middle;\n",
       "    }\n",
       "\n",
       "    .dataframe tbody tr th {\n",
       "        vertical-align: top;\n",
       "    }\n",
       "\n",
       "    .dataframe thead th {\n",
       "        text-align: right;\n",
       "    }\n",
       "</style>\n",
       "<table border=\"1\" class=\"dataframe\">\n",
       "  <thead>\n",
       "    <tr style=\"text-align: right;\">\n",
       "      <th></th>\n",
       "      <th>0</th>\n",
       "      <th>1</th>\n",
       "      <th>2</th>\n",
       "      <th>3</th>\n",
       "      <th>4</th>\n",
       "      <th>5</th>\n",
       "      <th>6</th>\n",
       "    </tr>\n",
       "  </thead>\n",
       "  <tbody>\n",
       "    <tr>\n",
       "      <th>0</th>\n",
       "      <td>1</td>\n",
       "      <td>0</td>\n",
       "      <td>0</td>\n",
       "      <td>0</td>\n",
       "      <td>0</td>\n",
       "      <td>0</td>\n",
       "      <td>0</td>\n",
       "    </tr>\n",
       "    <tr>\n",
       "      <th>1</th>\n",
       "      <td>0</td>\n",
       "      <td>1</td>\n",
       "      <td>0</td>\n",
       "      <td>0</td>\n",
       "      <td>0</td>\n",
       "      <td>0</td>\n",
       "      <td>0</td>\n",
       "    </tr>\n",
       "    <tr>\n",
       "      <th>2</th>\n",
       "      <td>1</td>\n",
       "      <td>0</td>\n",
       "      <td>0</td>\n",
       "      <td>0</td>\n",
       "      <td>0</td>\n",
       "      <td>0</td>\n",
       "      <td>0</td>\n",
       "    </tr>\n",
       "    <tr>\n",
       "      <th>3</th>\n",
       "      <td>0</td>\n",
       "      <td>1</td>\n",
       "      <td>0</td>\n",
       "      <td>0</td>\n",
       "      <td>0</td>\n",
       "      <td>0</td>\n",
       "      <td>0</td>\n",
       "    </tr>\n",
       "    <tr>\n",
       "      <th>4</th>\n",
       "      <td>1</td>\n",
       "      <td>0</td>\n",
       "      <td>0</td>\n",
       "      <td>0</td>\n",
       "      <td>0</td>\n",
       "      <td>0</td>\n",
       "      <td>0</td>\n",
       "    </tr>\n",
       "  </tbody>\n",
       "</table>\n",
       "</div>"
      ],
      "text/plain": [
       "   0  1  2  3  4  5  6\n",
       "0  1  0  0  0  0  0  0\n",
       "1  0  1  0  0  0  0  0\n",
       "2  1  0  0  0  0  0  0\n",
       "3  0  1  0  0  0  0  0\n",
       "4  1  0  0  0  0  0  0"
      ]
     },
     "execution_count": 18,
     "metadata": {
      "tags": []
     },
     "output_type": "execute_result"
    }
   ],
   "source": [
    "#your output should be like this and should have 20 records in total"
   ]
  },
  {
   "cell_type": "code",
   "execution_count": 114,
   "metadata": {},
   "outputs": [],
   "source": []
  },
  {
   "cell_type": "markdown",
   "metadata": {
    "id": "cDssEejzYRVX"
   },
   "source": [
    "### Q8. \n",
    "```\n",
    "dict_ = {'First Score':[100, 90, np.nan, 95],\n",
    "        'Second Score': [30, 45, 56, np.nan],\n",
    "        'Third Score':[np.nan, 40, 80, 98]\n",
    "\n",
    "```\n",
    "#### a. Convert this above dict to pandas dataframe"
   ]
  },
  {
   "cell_type": "code",
   "execution_count": 22,
   "metadata": {
    "colab": {
     "base_uri": "https://localhost:8080/",
     "height": 166
    },
    "id": "qP0gn3YkYhlc",
    "outputId": "04001f4f-be3b-4e60-d298-c187f012d9d7"
   },
   "outputs": [
    {
     "data": {
      "text/html": [
       "<div>\n",
       "<style scoped>\n",
       "    .dataframe tbody tr th:only-of-type {\n",
       "        vertical-align: middle;\n",
       "    }\n",
       "\n",
       "    .dataframe tbody tr th {\n",
       "        vertical-align: top;\n",
       "    }\n",
       "\n",
       "    .dataframe thead th {\n",
       "        text-align: right;\n",
       "    }\n",
       "</style>\n",
       "<table border=\"1\" class=\"dataframe\">\n",
       "  <thead>\n",
       "    <tr style=\"text-align: right;\">\n",
       "      <th></th>\n",
       "      <th>First Score</th>\n",
       "      <th>Second Score</th>\n",
       "      <th>Third Score</th>\n",
       "    </tr>\n",
       "  </thead>\n",
       "  <tbody>\n",
       "    <tr>\n",
       "      <th>0</th>\n",
       "      <td>100.0</td>\n",
       "      <td>30.0</td>\n",
       "      <td>NaN</td>\n",
       "    </tr>\n",
       "    <tr>\n",
       "      <th>1</th>\n",
       "      <td>90.0</td>\n",
       "      <td>45.0</td>\n",
       "      <td>40.0</td>\n",
       "    </tr>\n",
       "    <tr>\n",
       "      <th>2</th>\n",
       "      <td>NaN</td>\n",
       "      <td>56.0</td>\n",
       "      <td>80.0</td>\n",
       "    </tr>\n",
       "    <tr>\n",
       "      <th>3</th>\n",
       "      <td>95.0</td>\n",
       "      <td>NaN</td>\n",
       "      <td>98.0</td>\n",
       "    </tr>\n",
       "  </tbody>\n",
       "</table>\n",
       "</div>"
      ],
      "text/plain": [
       "   First Score  Second Score  Third Score\n",
       "0        100.0          30.0          NaN\n",
       "1         90.0          45.0         40.0\n",
       "2          NaN          56.0         80.0\n",
       "3         95.0           NaN         98.0"
      ]
     },
     "execution_count": 22,
     "metadata": {
      "tags": []
     },
     "output_type": "execute_result"
    }
   ],
   "source": [
    "#your output should be like this"
   ]
  },
  {
   "cell_type": "code",
   "execution_count": 122,
   "metadata": {
    "id": "tdVzZ13Fcnd7"
   },
   "outputs": [],
   "source": [
    "dict_ = {\n",
    "    'First Score': [100, 90, np.nan, 95],\n",
    "    'Second Score': [30, 45, 56, np.nan],\n",
    "    'Third Score': [np.nan, 40, 80, 98]\n",
    "}"
   ]
  },
  {
   "cell_type": "code",
   "execution_count": 124,
   "metadata": {},
   "outputs": [
    {
     "name": "stdout",
     "output_type": "stream",
     "text": [
      "   First Score  Second Score  Third Score\n",
      "0        100.0          30.0          NaN\n",
      "1         90.0          45.0         40.0\n",
      "2          NaN          56.0         80.0\n",
      "3         95.0           NaN         98.0\n"
     ]
    }
   ],
   "source": [
    "df = pd.DataFrame(dict_)\n",
    "print(df)"
   ]
  },
  {
   "cell_type": "markdown",
   "metadata": {
    "id": "8riLIB_cYiPz"
   },
   "source": [
    "#### b. Write code to get the number of missing values for each column."
   ]
  },
  {
   "cell_type": "code",
   "execution_count": 23,
   "metadata": {
    "colab": {
     "base_uri": "https://localhost:8080/"
    },
    "id": "X_rduWilcJDz",
    "outputId": "a723313f-700f-4e99-d68d-ce484ed75ca4"
   },
   "outputs": [
    {
     "data": {
      "text/plain": [
       "First Score     1\n",
       "Second Score    1\n",
       "Third Score     1\n",
       "dtype: int64"
      ]
     },
     "execution_count": 23,
     "metadata": {
      "tags": []
     },
     "output_type": "execute_result"
    }
   ],
   "source": [
    "#your output should be like this "
   ]
  },
  {
   "cell_type": "code",
   "execution_count": 126,
   "metadata": {
    "id": "9xs2ovZjck9J"
   },
   "outputs": [],
   "source": [
    "dict_ = {\n",
    "    'First Score': [100, 90, np.nan, 95],\n",
    "    'Second Score': [30, 45, 56, np.nan],\n",
    "    'Third Score': [np.nan, 40, 80, 98]\n",
    "}"
   ]
  },
  {
   "cell_type": "code",
   "execution_count": 128,
   "metadata": {},
   "outputs": [
    {
     "name": "stdout",
     "output_type": "stream",
     "text": [
      "First Score     1\n",
      "Second Score    1\n",
      "Third Score     1\n",
      "dtype: int64\n"
     ]
    }
   ],
   "source": [
    "df = pd.DataFrame(dict_)\n",
    "missing_values = df.isnull().sum()\n",
    "print(missing_values)"
   ]
  },
  {
   "cell_type": "markdown",
   "metadata": {
    "id": "XkaKImkLYjhN"
   },
   "source": [
    "#### c. Fill this nan values with mean value of their respective column"
   ]
  },
  {
   "cell_type": "code",
   "execution_count": 27,
   "metadata": {
    "colab": {
     "base_uri": "https://localhost:8080/",
     "height": 166
    },
    "id": "UXU-wBVZYnXy",
    "outputId": "f50a74df-2e53-40a6-f5c2-a383007281bb"
   },
   "outputs": [
    {
     "data": {
      "text/html": [
       "<div>\n",
       "<style scoped>\n",
       "    .dataframe tbody tr th:only-of-type {\n",
       "        vertical-align: middle;\n",
       "    }\n",
       "\n",
       "    .dataframe tbody tr th {\n",
       "        vertical-align: top;\n",
       "    }\n",
       "\n",
       "    .dataframe thead th {\n",
       "        text-align: right;\n",
       "    }\n",
       "</style>\n",
       "<table border=\"1\" class=\"dataframe\">\n",
       "  <thead>\n",
       "    <tr style=\"text-align: right;\">\n",
       "      <th></th>\n",
       "      <th>First Score</th>\n",
       "      <th>Second Score</th>\n",
       "      <th>Third Score</th>\n",
       "    </tr>\n",
       "  </thead>\n",
       "  <tbody>\n",
       "    <tr>\n",
       "      <th>0</th>\n",
       "      <td>100.0</td>\n",
       "      <td>30.000000</td>\n",
       "      <td>72.666667</td>\n",
       "    </tr>\n",
       "    <tr>\n",
       "      <th>1</th>\n",
       "      <td>90.0</td>\n",
       "      <td>45.000000</td>\n",
       "      <td>40.000000</td>\n",
       "    </tr>\n",
       "    <tr>\n",
       "      <th>2</th>\n",
       "      <td>95.0</td>\n",
       "      <td>56.000000</td>\n",
       "      <td>80.000000</td>\n",
       "    </tr>\n",
       "    <tr>\n",
       "      <th>3</th>\n",
       "      <td>95.0</td>\n",
       "      <td>43.666667</td>\n",
       "      <td>98.000000</td>\n",
       "    </tr>\n",
       "  </tbody>\n",
       "</table>\n",
       "</div>"
      ],
      "text/plain": [
       "   First Score  Second Score  Third Score\n",
       "0        100.0     30.000000    72.666667\n",
       "1         90.0     45.000000    40.000000\n",
       "2         95.0     56.000000    80.000000\n",
       "3         95.0     43.666667    98.000000"
      ]
     },
     "execution_count": 27,
     "metadata": {
      "tags": []
     },
     "output_type": "execute_result"
    }
   ],
   "source": [
    "#your output should be like this "
   ]
  },
  {
   "cell_type": "code",
   "execution_count": 130,
   "metadata": {
    "id": "Rs0ywvk7clhh"
   },
   "outputs": [],
   "source": [
    "ict_ = {\n",
    "    'First Score': [100, 90, np.nan, 95],\n",
    "    'Second Score': [30, 45, 56, np.nan],\n",
    "    'Third Score': [np.nan, 40, 80, 98]\n",
    "}"
   ]
  },
  {
   "cell_type": "code",
   "execution_count": 132,
   "metadata": {},
   "outputs": [
    {
     "name": "stdout",
     "output_type": "stream",
     "text": [
      "   First Score  Second Score  Third Score\n",
      "0        100.0     30.000000    72.666667\n",
      "1         90.0     45.000000    40.000000\n",
      "2         95.0     56.000000    80.000000\n",
      "3         95.0     43.666667    98.000000\n"
     ]
    }
   ],
   "source": [
    "df = pd.DataFrame(dict_)\n",
    "df_filled = df.fillna(df.mean())\n",
    "print(df_filled)"
   ]
  },
  {
   "cell_type": "markdown",
   "metadata": {
    "id": "oI-3lVdWYoPJ"
   },
   "source": [
    "### Q9. Add an index column to the table used in Q4.\n",
    "*HINT : Rest index*"
   ]
  },
  {
   "cell_type": "code",
   "execution_count": 28,
   "metadata": {
    "colab": {
     "base_uri": "https://localhost:8080/",
     "height": 284
    },
    "id": "WBUkllhlYuK7",
    "outputId": "d75f5b20-9517-4e58-da15-31b1b225d572"
   },
   "outputs": [
    {
     "data": {
      "text/html": [
       "<div>\n",
       "<style scoped>\n",
       "    .dataframe tbody tr th:only-of-type {\n",
       "        vertical-align: middle;\n",
       "    }\n",
       "\n",
       "    .dataframe tbody tr th {\n",
       "        vertical-align: top;\n",
       "    }\n",
       "\n",
       "    .dataframe thead th {\n",
       "        text-align: right;\n",
       "    }\n",
       "</style>\n",
       "<table border=\"1\" class=\"dataframe\">\n",
       "  <thead>\n",
       "    <tr style=\"text-align: right;\">\n",
       "      <th></th>\n",
       "      <th>index</th>\n",
       "      <th>Fruit Name</th>\n",
       "      <th>Quantity</th>\n",
       "      <th>Price</th>\n",
       "      <th>price/quantity</th>\n",
       "    </tr>\n",
       "  </thead>\n",
       "  <tbody>\n",
       "    <tr>\n",
       "      <th>0</th>\n",
       "      <td>0</td>\n",
       "      <td>Banana</td>\n",
       "      <td>78</td>\n",
       "      <td>112</td>\n",
       "      <td>1.435897</td>\n",
       "    </tr>\n",
       "    <tr>\n",
       "      <th>1</th>\n",
       "      <td>1</td>\n",
       "      <td>Mango</td>\n",
       "      <td>40</td>\n",
       "      <td>160</td>\n",
       "      <td>4.000000</td>\n",
       "    </tr>\n",
       "    <tr>\n",
       "      <th>2</th>\n",
       "      <td>2</td>\n",
       "      <td>Banana</td>\n",
       "      <td>20</td>\n",
       "      <td>85</td>\n",
       "      <td>4.250000</td>\n",
       "    </tr>\n",
       "    <tr>\n",
       "      <th>3</th>\n",
       "      <td>3</td>\n",
       "      <td>PineApple</td>\n",
       "      <td>15</td>\n",
       "      <td>90</td>\n",
       "      <td>6.000000</td>\n",
       "    </tr>\n",
       "    <tr>\n",
       "      <th>4</th>\n",
       "      <td>4</td>\n",
       "      <td>Strawberry</td>\n",
       "      <td>100</td>\n",
       "      <td>200</td>\n",
       "      <td>2.000000</td>\n",
       "    </tr>\n",
       "    <tr>\n",
       "      <th>5</th>\n",
       "      <td>5</td>\n",
       "      <td>Mango</td>\n",
       "      <td>25</td>\n",
       "      <td>60</td>\n",
       "      <td>2.400000</td>\n",
       "    </tr>\n",
       "    <tr>\n",
       "      <th>6</th>\n",
       "      <td>6</td>\n",
       "      <td>Mango</td>\n",
       "      <td>40</td>\n",
       "      <td>100</td>\n",
       "      <td>2.500000</td>\n",
       "    </tr>\n",
       "    <tr>\n",
       "      <th>7</th>\n",
       "      <td>7</td>\n",
       "      <td>PineApple</td>\n",
       "      <td>50</td>\n",
       "      <td>285</td>\n",
       "      <td>5.700000</td>\n",
       "    </tr>\n",
       "  </tbody>\n",
       "</table>\n",
       "</div>"
      ],
      "text/plain": [
       "   index  Fruit Name  Quantity  Price  price/quantity\n",
       "0      0      Banana        78    112        1.435897\n",
       "1      1       Mango        40    160        4.000000\n",
       "2      2      Banana        20     85        4.250000\n",
       "3      3   PineApple        15     90        6.000000\n",
       "4      4  Strawberry       100    200        2.000000\n",
       "5      5       Mango        25     60        2.400000\n",
       "6      6       Mango        40    100        2.500000\n",
       "7      7   PineApple        50    285        5.700000"
      ]
     },
     "execution_count": 28,
     "metadata": {
      "tags": []
     },
     "output_type": "execute_result"
    }
   ],
   "source": [
    "#your output should be like this"
   ]
  },
  {
   "cell_type": "code",
   "execution_count": 134,
   "metadata": {
    "id": "XHSH8PkMhjC2"
   },
   "outputs": [],
   "source": [
    "data = {\n",
    "    'Fruit Name': ['Banana', 'Mango', 'Banana', 'PineApple', 'Strawberry', \n",
    "                   'Mango', 'Mango', 'PineApple'],\n",
    "    'Quantity': [78, 40, 20, 15, 100, 25, 40, 50],\n",
    "    'Price': [112, 160, 85, 90, 200, 60, 100, 285]\n",
    "}\n"
   ]
  },
  {
   "cell_type": "code",
   "execution_count": 136,
   "metadata": {},
   "outputs": [
    {
     "name": "stdout",
     "output_type": "stream",
     "text": [
      "   index  Fruit Name  Quantity  Price  price/quantity\n",
      "0      0      Banana        78    112        1.435897\n",
      "1      1       Mango        40    160        4.000000\n",
      "2      2      Banana        20     85        4.250000\n",
      "3      3   PineApple        15     90        6.000000\n",
      "4      4  Strawberry       100    200        2.000000\n",
      "5      5       Mango        25     60        2.400000\n",
      "6      6       Mango        40    100        2.500000\n",
      "7      7   PineApple        50    285        5.700000\n"
     ]
    }
   ],
   "source": [
    "df = pd.DataFrame(data)\n",
    "df['price/quantity'] = df['Price'] / df['Quantity']\n",
    "df.reset_index(drop=False, inplace=True)\n",
    "df.rename(columns={'index': 'index'}, inplace=True)\n",
    "print(df)"
   ]
  },
  {
   "cell_type": "markdown",
   "metadata": {
    "id": "6yDqupOsYuXT"
   },
   "source": [
    "### Q10. \n",
    "**You are provided wih two different csv files ,**\n",
    "```\n",
    "sample_sheet_1.csv\n",
    "sample_sheet_2.csv \n",
    "```\n",
    "<p>\n",
    "    \n",
    "**You just need to read both of them , and merge them based on location column.**"
   ]
  },
  {
   "cell_type": "code",
   "execution_count": 30,
   "metadata": {
    "colab": {
     "base_uri": "https://localhost:8080/",
     "height": 136
    },
    "id": "LJpV23rKZGOV",
    "outputId": "2e4eba7c-bcdd-4bfe-b92e-1f827c829fff"
   },
   "outputs": [
    {
     "data": {
      "text/html": [
       "<div>\n",
       "<style scoped>\n",
       "    .dataframe tbody tr th:only-of-type {\n",
       "        vertical-align: middle;\n",
       "    }\n",
       "\n",
       "    .dataframe tbody tr th {\n",
       "        vertical-align: top;\n",
       "    }\n",
       "\n",
       "    .dataframe thead th {\n",
       "        text-align: right;\n",
       "    }\n",
       "</style>\n",
       "<table border=\"1\" class=\"dataframe\">\n",
       "  <thead>\n",
       "    <tr style=\"text-align: right;\">\n",
       "      <th></th>\n",
       "      <th>Location</th>\n",
       "      <th>Population</th>\n",
       "      <th>House_count</th>\n",
       "      <th>Location Area</th>\n",
       "      <th>No. of shops</th>\n",
       "      <th>Weekly market day</th>\n",
       "    </tr>\n",
       "  </thead>\n",
       "  <tbody>\n",
       "    <tr>\n",
       "      <th>0</th>\n",
       "      <td>ABB</td>\n",
       "      <td>2.5 lakh</td>\n",
       "      <td>763</td>\n",
       "      <td>25 hectare</td>\n",
       "      <td>150</td>\n",
       "      <td>Nothing as such</td>\n",
       "    </tr>\n",
       "    <tr>\n",
       "      <th>1</th>\n",
       "      <td>ABC</td>\n",
       "      <td>1.5 lakh</td>\n",
       "      <td>520</td>\n",
       "      <td>20 hectare</td>\n",
       "      <td>120</td>\n",
       "      <td>Tuesday</td>\n",
       "    </tr>\n",
       "    <tr>\n",
       "      <th>2</th>\n",
       "      <td>CDD</td>\n",
       "      <td>3.5 lakh</td>\n",
       "      <td>800</td>\n",
       "      <td>35 hectare</td>\n",
       "      <td>180</td>\n",
       "      <td>Wednesday</td>\n",
       "    </tr>\n",
       "  </tbody>\n",
       "</table>\n",
       "</div>"
      ],
      "text/plain": [
       "  Location Population  ...  No. of shops Weekly market day\n",
       "0      ABB   2.5 lakh  ...           150   Nothing as such\n",
       "1      ABC   1.5 lakh  ...           120           Tuesday\n",
       "2      CDD   3.5 lakh  ...           180         Wednesday\n",
       "\n",
       "[3 rows x 6 columns]"
      ]
     },
     "execution_count": 30,
     "metadata": {
      "tags": []
     },
     "output_type": "execute_result"
    }
   ],
   "source": [
    "#your output should be like this"
   ]
  },
  {
   "cell_type": "code",
   "execution_count": 158,
   "metadata": {
    "id": "OQ0wGULMdFQ2"
   },
   "outputs": [],
   "source": [
    "df1 = pd.read_csv('sample_sheet_1.csv')\n",
    "df2 = pd.read_csv('sample_sheet_2.csv')"
   ]
  },
  {
   "cell_type": "code",
   "execution_count": 160,
   "metadata": {},
   "outputs": [],
   "source": [
    "merged_df = pd.merge(df1, df2, on='Location')"
   ]
  },
  {
   "cell_type": "code",
   "execution_count": 162,
   "metadata": {},
   "outputs": [
    {
     "name": "stdout",
     "output_type": "stream",
     "text": [
      "  Location Population  House_count Location Area  No. of shops  \\\n",
      "0      ABB   2.5 lakh          763    25 hectare           150   \n",
      "1      ABC   1.5 lakh          520    20 hectare           120   \n",
      "2      CDD   3.5 lakh          800    35 hectare           180   \n",
      "\n",
      "  Weekly market day  \n",
      "0   Nothing as such  \n",
      "1           Tuesday  \n",
      "2         Wednesday  \n"
     ]
    }
   ],
   "source": [
    "print(merged_df)"
   ]
  },
  {
   "cell_type": "code",
   "execution_count": null,
   "metadata": {},
   "outputs": [],
   "source": []
  }
 ],
 "metadata": {
  "colab": {
   "collapsed_sections": [],
   "name": "Pandas test coding minutes.ipynb",
   "provenance": []
  },
  "kernelspec": {
   "display_name": "Python [conda env:base] *",
   "language": "python",
   "name": "conda-base-py"
  },
  "language_info": {
   "codemirror_mode": {
    "name": "ipython",
    "version": 3
   },
   "file_extension": ".py",
   "mimetype": "text/x-python",
   "name": "python",
   "nbconvert_exporter": "python",
   "pygments_lexer": "ipython3",
   "version": "3.12.7"
  }
 },
 "nbformat": 4,
 "nbformat_minor": 4
}
